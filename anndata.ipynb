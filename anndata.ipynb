{
 "cells": [
  {
   "cell_type": "code",
   "execution_count": 2,
   "id": "f2848d8e-da9f-4e18-bd46-1575d3f6de08",
   "metadata": {
    "tags": []
   },
   "outputs": [],
   "source": [
    "import numpy as np \n",
    "import pandas as pd \n",
    "import anndata as ad\n",
    "import scanpy as sc"
   ]
  },
  {
   "cell_type": "code",
   "execution_count": 3,
   "id": "0467d4ac-c15e-4807-acc8-01ac7a0a1130",
   "metadata": {
    "tags": []
   },
   "outputs": [
    {
     "data": {
      "text/plain": [
       "AnnData object with n_obs × n_vars = 69 × 11969\n",
       "    obs: 'SeqPlate', 'SeqRow', 'SeqCol', 'Project', 'HomeID', 'HomePlate', 'HomeRow', 'HomeCol', 'date', 'animal', 'condition', 'region', 'n_counts', 'log_counts', 'n_genes', 'mt_frac', 'ERCC_frac'\n",
       "    var: 'n_cells'\n",
       "    uns: 'condition_colors', 'date_colors', 'neighbors', 'pca', 'region_colors', 'umap'\n",
       "    obsm: 'X_pca', 'X_umap'\n",
       "    varm: 'PCs'\n",
       "    layers: 'raw_counts'\n",
       "    obsp: 'connectivities', 'distances'"
      ]
     },
     "execution_count": 3,
     "metadata": {},
     "output_type": "execute_result"
    }
   ],
   "source": [
    "# source of data: https://www.ncbi.nlm.nih.gov/geo/download/?acc=GSE192616\n",
    "adata = ad.read_h5ad(\"/home/razanin/sc/Data/GSE192616_5xFAD_adata.h5ad\")\n",
    "adata\n"
   ]
  },
  {
   "cell_type": "code",
   "execution_count": 5,
   "id": "9b1295dc-9d13-4938-80da-46bcaedeca43",
   "metadata": {
    "tags": []
   },
   "outputs": [
    {
     "name": "stdout",
     "output_type": "stream",
     "text": [
      "      SeqPlate SeqRow  SeqCol Project    HomeID HomePlate HomeRow  HomeCol  \\\n",
      "SeqID                                                                        \n",
      "P4C11       P4      C      11   Harsh  P0809G10     P0809       G       10   \n",
      "P4F10       P4      F      10   Harsh   P0809G8     P0809       G        8   \n",
      "P5A10       P5      A      10   Harsh  P0806A10     P0806       A       10   \n",
      "P5A11       P5      A      11   Harsh  P0806A11     P0806       A       11   \n",
      "P5A2        P5      A       2   Harsh   P0806A2     P0806       A        2   \n",
      "...        ...    ...     ...     ...       ...       ...     ...      ...   \n",
      "P6E6        P6      E       6   Harsh   P0809E6     P0809       E        6   \n",
      "P6F3        P6      F       3   Harsh   P0809F3     P0809       F        3   \n",
      "P6F6        P6      F       6   Harsh   P0809F6     P0809       F        6   \n",
      "P6F8        P6      F       8   Harsh   P0809F8     P0809       F        8   \n",
      "P6F9        P6      F       9   Harsh   P0809F9     P0809       F        9   \n",
      "\n",
      "         date animal condition    region   n_counts  log_counts  n_genes  \\\n",
      "SeqID                                                                      \n",
      "P4C11  190809    353        WT  Calvaria   236097.0   12.371998     6599   \n",
      "P4F10  190809    353        WT  Calvaria   530244.0   13.181092     7662   \n",
      "P5A10  190806    438     5xFAD     Femur  2008488.0   14.512893     9051   \n",
      "P5A11  190806    438     5xFAD     Femur   200730.0   12.209716     8168   \n",
      "P5A2   190806    438     5xFAD     Femur   521013.0   13.163530     7829   \n",
      "...       ...    ...       ...       ...        ...         ...      ...   \n",
      "P6E6   190809    219     5xFAD  Calvaria   258767.0   12.463683     6167   \n",
      "P6F3   190809    253        WT  Calvaria   381150.0   12.850948     7790   \n",
      "P6F6   190809    253        WT  Calvaria   585970.0   13.281024     8384   \n",
      "P6F8   190809    253        WT  Calvaria   442016.0   12.999102     7013   \n",
      "P6F9   190809    253        WT  Calvaria   177299.0   12.085593     6568   \n",
      "\n",
      "        mt_frac  ERCC_frac  \n",
      "SeqID                       \n",
      "P4C11  0.000534   0.000233  \n",
      "P4F10  0.000238   0.000230  \n",
      "P5A10  0.000357   0.000188  \n",
      "P5A11  0.000996   0.000020  \n",
      "P5A2   0.000182   0.000054  \n",
      "...         ...        ...  \n",
      "P6E6   0.000340   0.000155  \n",
      "P6F3   0.000331   0.000218  \n",
      "P6F6   0.000302   0.000143  \n",
      "P6F8   0.000258   0.000156  \n",
      "P6F9   0.000299   0.000243  \n",
      "\n",
      "[69 rows x 17 columns]\n"
     ]
    }
   ],
   "source": [
    "print(adata.obs)"
   ]
  },
  {
   "cell_type": "code",
   "execution_count": 6,
   "id": "61be9982-2607-4b20-b7c7-68b064c75675",
   "metadata": {
    "tags": []
   },
   "outputs": [
    {
     "name": "stdout",
     "output_type": "stream",
     "text": [
      "            n_cells\n",
      "Gm6085           15\n",
      "Gm6123            8\n",
      "Mrpl15           64\n",
      "Lypla1           59\n",
      "Tcea1            67\n",
      "...             ...\n",
      "ERCC-00108       10\n",
      "ERCC-00113       41\n",
      "ERCC-00130       67\n",
      "ERCC-00136        9\n",
      "ERCC-00171       56\n",
      "\n",
      "[11969 rows x 1 columns]\n"
     ]
    }
   ],
   "source": [
    "print(adata.var)"
   ]
  },
  {
   "cell_type": "code",
   "execution_count": 7,
   "id": "e0f3aa70-3b05-4c78-981a-188d4326cdd9",
   "metadata": {
    "tags": []
   },
   "outputs": [
    {
     "data": {
      "text/plain": [
       "array([[0.       , 0.       , 2.500379 , ..., 3.151634 , 0.       ,\n",
       "        2.500379 ],\n",
       "       [0.       , 0.       , 3.1533911, ..., 3.579854 , 2.3944688,\n",
       "        2.5991995],\n",
       "       [0.       , 0.       , 2.7596436, ..., 3.9117284, 0.       ,\n",
       "        1.529607 ],\n",
       "       ...,\n",
       "       [0.       , 0.       , 2.8849697, ..., 2.8199584, 0.       ,\n",
       "        0.7546506],\n",
       "       [0.       , 0.       , 3.3804293, ..., 3.153075 , 0.       ,\n",
       "        0.       ],\n",
       "       [0.       , 0.       , 2.499207 , ..., 0.       , 0.       ,\n",
       "        1.5527151]], dtype=float32)"
      ]
     },
     "execution_count": 7,
     "metadata": {},
     "output_type": "execute_result"
    }
   ],
   "source": [
    "#expression matrix for the dataset\n",
    "adata.X"
   ]
  },
  {
   "cell_type": "code",
   "execution_count": 8,
   "id": "a77216c2-c307-4fa6-b7f6-fd2a91580a88",
   "metadata": {
    "tags": []
   },
   "outputs": [
    {
     "name": "stdout",
     "output_type": "stream",
     "text": [
      "Expression matrix shape: (69, 11969)\n"
     ]
    }
   ],
   "source": [
    "# Print the shape of the expression matrix\n",
    "print(\"Expression matrix shape:\", adata.X.shape)"
   ]
  },
  {
   "cell_type": "code",
   "execution_count": 9,
   "id": "2723c491-3f2c-4a08-a818-31ca34a8dfd7",
   "metadata": {
    "tags": []
   },
   "outputs": [
    {
     "data": {
      "text/plain": [
       "View of AnnData object with n_obs × n_vars = 1 × 11969\n",
       "    obs: 'SeqPlate', 'SeqRow', 'SeqCol', 'Project', 'HomeID', 'HomePlate', 'HomeRow', 'HomeCol', 'date', 'animal', 'condition', 'region', 'n_counts', 'log_counts', 'n_genes', 'mt_frac', 'ERCC_frac'\n",
       "    var: 'n_cells'\n",
       "    uns: 'condition_colors', 'date_colors', 'neighbors', 'pca', 'region_colors', 'umap'\n",
       "    obsm: 'X_pca', 'X_umap'\n",
       "    varm: 'PCs'\n",
       "    layers: 'raw_counts'\n",
       "    obsp: 'connectivities', 'distances'"
      ]
     },
     "execution_count": 9,
     "metadata": {},
     "output_type": "execute_result"
    }
   ],
   "source": [
    "#Subsetting using metadata\n",
    "bdata = adata[adata.obs_names == \"P5F3\"]\n",
    "bdata"
   ]
  },
  {
   "cell_type": "code",
   "execution_count": 10,
   "id": "ffb0d0d7-c635-45fd-8c0a-7b5d74bb95ab",
   "metadata": {
    "tags": []
   },
   "outputs": [
    {
     "name": "stdout",
     "output_type": "stream",
     "text": [
      "Cell annotations: Index(['P4C11', 'P4F10', 'P5A10', 'P5A11', 'P5A2', 'P5A3', 'P5A4', 'P5A5',\n",
      "       'P5A6', 'P5A7', 'P5A8', 'P5A9', 'P5B10', 'P5B11', 'P5B2', 'P5B3',\n",
      "       'P5B4', 'P5B6', 'P5B7', 'P5C11', 'P5C12', 'P5C2', 'P5C3', 'P5C4',\n",
      "       'P5C5', 'P5C6', 'P5C7', 'P5C8', 'P5D10', 'P5D11', 'P5D12', 'P5D2',\n",
      "       'P5D3', 'P5D5', 'P5D6', 'P5E1', 'P5E3', 'P5E4', 'P5E5', 'P5E7', 'P5E8',\n",
      "       'P5E9', 'P5F1', 'P5F10', 'P5F3', 'P5F4', 'P5F6', 'P5F7', 'P5G12',\n",
      "       'P5G3', 'P5G4', 'P5G5', 'P5H11', 'P5H3', 'P5H4', 'P5H5', 'P5H6',\n",
      "       'P6A10', 'P6A3', 'P6B11', 'P6B3', 'P6C10', 'P6D2', 'P6D9', 'P6E6',\n",
      "       'P6F3', 'P6F6', 'P6F8', 'P6F9'],\n",
      "      dtype='object', name='SeqID')\n",
      "Gene annotations: Index(['Gm6085', 'Gm6123', 'Mrpl15', 'Lypla1', 'Tcea1', 'Atp6v1h', 'Rb1cc1',\n",
      "       '4732440D04Rik', 'Gm37108', 'Pcmtd1',\n",
      "       ...\n",
      "       'ERCC-00009', 'ERCC-00046', 'ERCC-00074', 'ERCC-00076', 'ERCC-00096',\n",
      "       'ERCC-00108', 'ERCC-00113', 'ERCC-00130', 'ERCC-00136', 'ERCC-00171'],\n",
      "      dtype='object', length=11969)\n"
     ]
    }
   ],
   "source": [
    "# Print the names of the cell and gene annotations\n",
    "print(\"Cell annotations:\", adata.obs_names)\n",
    "print(\"Gene annotations:\", adata.var_names)"
   ]
  },
  {
   "cell_type": "code",
   "execution_count": 11,
   "id": "0334151b-9ec5-4a42-8f75-9a9f0bd48ceb",
   "metadata": {},
   "outputs": [
    {
     "name": "stdout",
     "output_type": "stream",
     "text": [
      "Available layers: KeysView(Layers with keys: raw_counts)\n"
     ]
    }
   ],
   "source": [
    "print(\"Available layers:\", adata.layers.keys())"
   ]
  },
  {
   "cell_type": "code",
   "execution_count": 12,
   "id": "d403959f-c0c2-4804-ab61-cf5c793be752",
   "metadata": {
    "tags": []
   },
   "outputs": [
    {
     "data": {
      "image/png": "[encoded data removed]",
      "text/plain": [
       "<Figure size 500x550 with 1 Axes>"
      ]
     },
     "metadata": {},
     "output_type": "display_data"
    }
   ],
   "source": [
    "sc.pl.highest_expr_genes(adata, n_top=20)"
   ]
  },
  {
   "cell_type": "code",
   "execution_count": 13,
   "id": "ebffaeaa-d6bc-4687-aea1-e1bd3af4da0f",
   "metadata": {
    "tags": []
   },
   "outputs": [
    {
     "data": {
      "image/png": "[encoded data removed]",
      "text/plain": [
       "<Figure size 640x480 with 2 Axes>"
      ]
     },
     "metadata": {},
     "output_type": "display_data"
    }
   ],
   "source": [
    "sc.tl.pca(adata, svd_solver=\"arpack\")\n",
    "sc.pl.pca(adata, color=\"Gm6085\")"
   ]
  },
  {
   "cell_type": "code",
   "execution_count": 14,
   "id": "df00d781-19e6-48c5-b8f2-47c970da6177",
   "metadata": {},
   "outputs": [],
   "source": [
    "df = adata.to_df()"
   ]
  },
  {
   "cell_type": "code",
   "execution_count": 15,
   "id": "e322e91a-d8e8-44f9-8c51-017c729278e4",
   "metadata": {
    "tags": []
   },
   "outputs": [
    {
     "data": {
      "text/html": [
       "<div>\n",
       "<style scoped>\n",
       "    .dataframe tbody tr th:only-of-type {\n",
       "        vertical-align: middle;\n",
       "    }\n",
       "\n",
       "    .dataframe tbody tr th {\n",
       "        vertical-align: top;\n",
       "    }\n",
       "\n",
       "    .dataframe thead th {\n",
       "        text-align: right;\n",
       "    }\n",
       "</style>\n",
       "<table border=\"1\" class=\"dataframe\">\n",
       "  <thead>\n",
       "    <tr style=\"text-align: right;\">\n",
       "      <th></th>\n",
       "      <th>Gm6085</th>\n",
       "      <th>Gm6123</th>\n",
       "      <th>Mrpl15</th>\n",
       "      <th>Lypla1</th>\n",
       "      <th>Tcea1</th>\n",
       "      <th>Atp6v1h</th>\n",
       "      <th>Rb1cc1</th>\n",
       "      <th>4732440D04Rik</th>\n",
       "      <th>Gm37108</th>\n",
       "      <th>Pcmtd1</th>\n",
       "      <th>...</th>\n",
       "      <th>ERCC-00009</th>\n",
       "      <th>ERCC-00046</th>\n",
       "      <th>ERCC-00074</th>\n",
       "      <th>ERCC-00076</th>\n",
       "      <th>ERCC-00096</th>\n",
       "      <th>ERCC-00108</th>\n",
       "      <th>ERCC-00113</th>\n",
       "      <th>ERCC-00130</th>\n",
       "      <th>ERCC-00136</th>\n",
       "      <th>ERCC-00171</th>\n",
       "    </tr>\n",
       "    <tr>\n",
       "      <th>SeqID</th>\n",
       "      <th></th>\n",
       "      <th></th>\n",
       "      <th></th>\n",
       "      <th></th>\n",
       "      <th></th>\n",
       "      <th></th>\n",
       "      <th></th>\n",
       "      <th></th>\n",
       "      <th></th>\n",
       "      <th></th>\n",
       "      <th></th>\n",
       "      <th></th>\n",
       "      <th></th>\n",
       "      <th></th>\n",
       "      <th></th>\n",
       "      <th></th>\n",
       "      <th></th>\n",
       "      <th></th>\n",
       "      <th></th>\n",
       "      <th></th>\n",
       "      <th></th>\n",
       "    </tr>\n",
       "  </thead>\n",
       "  <tbody>\n",
       "    <tr>\n",
       "      <th>P4C11</th>\n",
       "      <td>0.0</td>\n",
       "      <td>0.0</td>\n",
       "      <td>2.500379</td>\n",
       "      <td>1.334153</td>\n",
       "      <td>3.264652</td>\n",
       "      <td>3.151634</td>\n",
       "      <td>1.334153</td>\n",
       "      <td>0.000000</td>\n",
       "      <td>1.334153</td>\n",
       "      <td>0.000000</td>\n",
       "      <td>...</td>\n",
       "      <td>0.000000</td>\n",
       "      <td>0.000000</td>\n",
       "      <td>1.334153</td>\n",
       "      <td>0.0</td>\n",
       "      <td>4.179389</td>\n",
       "      <td>0.000000</td>\n",
       "      <td>1.334153</td>\n",
       "      <td>3.151634</td>\n",
       "      <td>0.000000</td>\n",
       "      <td>2.500379</td>\n",
       "    </tr>\n",
       "    <tr>\n",
       "      <th>P4F10</th>\n",
       "      <td>0.0</td>\n",
       "      <td>0.0</td>\n",
       "      <td>3.153391</td>\n",
       "      <td>2.599200</td>\n",
       "      <td>3.301422</td>\n",
       "      <td>2.844261</td>\n",
       "      <td>1.555170</td>\n",
       "      <td>0.000000</td>\n",
       "      <td>0.808838</td>\n",
       "      <td>2.687729</td>\n",
       "      <td>...</td>\n",
       "      <td>0.000000</td>\n",
       "      <td>0.000000</td>\n",
       "      <td>0.000000</td>\n",
       "      <td>0.0</td>\n",
       "      <td>4.021649</td>\n",
       "      <td>0.000000</td>\n",
       "      <td>1.788619</td>\n",
       "      <td>3.579854</td>\n",
       "      <td>2.394469</td>\n",
       "      <td>2.599200</td>\n",
       "    </tr>\n",
       "    <tr>\n",
       "      <th>P5A10</th>\n",
       "      <td>0.0</td>\n",
       "      <td>0.0</td>\n",
       "      <td>2.759644</td>\n",
       "      <td>2.738609</td>\n",
       "      <td>1.598402</td>\n",
       "      <td>3.330715</td>\n",
       "      <td>1.455728</td>\n",
       "      <td>0.000000</td>\n",
       "      <td>0.000000</td>\n",
       "      <td>1.289255</td>\n",
       "      <td>...</td>\n",
       "      <td>0.000000</td>\n",
       "      <td>0.284246</td>\n",
       "      <td>0.839427</td>\n",
       "      <td>0.0</td>\n",
       "      <td>3.541931</td>\n",
       "      <td>0.000000</td>\n",
       "      <td>2.839619</td>\n",
       "      <td>3.911728</td>\n",
       "      <td>0.000000</td>\n",
       "      <td>1.529607</td>\n",
       "    </tr>\n",
       "    <tr>\n",
       "      <th>P5A11</th>\n",
       "      <td>0.0</td>\n",
       "      <td>0.0</td>\n",
       "      <td>4.497783</td>\n",
       "      <td>3.307487</td>\n",
       "      <td>1.456181</td>\n",
       "      <td>2.025394</td>\n",
       "      <td>3.031934</td>\n",
       "      <td>0.000000</td>\n",
       "      <td>0.000000</td>\n",
       "      <td>0.000000</td>\n",
       "      <td>...</td>\n",
       "      <td>0.000000</td>\n",
       "      <td>0.000000</td>\n",
       "      <td>0.000000</td>\n",
       "      <td>0.0</td>\n",
       "      <td>1.456181</td>\n",
       "      <td>0.000000</td>\n",
       "      <td>0.000000</td>\n",
       "      <td>1.456181</td>\n",
       "      <td>0.000000</td>\n",
       "      <td>0.000000</td>\n",
       "    </tr>\n",
       "    <tr>\n",
       "      <th>P5A2</th>\n",
       "      <td>0.0</td>\n",
       "      <td>0.0</td>\n",
       "      <td>2.410442</td>\n",
       "      <td>2.410442</td>\n",
       "      <td>2.785525</td>\n",
       "      <td>1.992903</td>\n",
       "      <td>2.704106</td>\n",
       "      <td>0.000000</td>\n",
       "      <td>0.000000</td>\n",
       "      <td>0.000000</td>\n",
       "      <td>...</td>\n",
       "      <td>0.000000</td>\n",
       "      <td>0.000000</td>\n",
       "      <td>0.000000</td>\n",
       "      <td>0.0</td>\n",
       "      <td>2.410442</td>\n",
       "      <td>0.000000</td>\n",
       "      <td>0.000000</td>\n",
       "      <td>2.704106</td>\n",
       "      <td>0.818616</td>\n",
       "      <td>0.818616</td>\n",
       "    </tr>\n",
       "    <tr>\n",
       "      <th>...</th>\n",
       "      <td>...</td>\n",
       "      <td>...</td>\n",
       "      <td>...</td>\n",
       "      <td>...</td>\n",
       "      <td>...</td>\n",
       "      <td>...</td>\n",
       "      <td>...</td>\n",
       "      <td>...</td>\n",
       "      <td>...</td>\n",
       "      <td>...</td>\n",
       "      <td>...</td>\n",
       "      <td>...</td>\n",
       "      <td>...</td>\n",
       "      <td>...</td>\n",
       "      <td>...</td>\n",
       "      <td>...</td>\n",
       "      <td>...</td>\n",
       "      <td>...</td>\n",
       "      <td>...</td>\n",
       "      <td>...</td>\n",
       "      <td>...</td>\n",
       "    </tr>\n",
       "    <tr>\n",
       "      <th>P6E6</th>\n",
       "      <td>0.0</td>\n",
       "      <td>0.0</td>\n",
       "      <td>2.416542</td>\n",
       "      <td>2.621678</td>\n",
       "      <td>2.621678</td>\n",
       "      <td>1.808865</td>\n",
       "      <td>0.000000</td>\n",
       "      <td>2.937166</td>\n",
       "      <td>0.000000</td>\n",
       "      <td>2.416542</td>\n",
       "      <td>...</td>\n",
       "      <td>0.000000</td>\n",
       "      <td>0.000000</td>\n",
       "      <td>0.000000</td>\n",
       "      <td>0.0</td>\n",
       "      <td>3.064048</td>\n",
       "      <td>1.267443</td>\n",
       "      <td>2.158169</td>\n",
       "      <td>3.277808</td>\n",
       "      <td>0.000000</td>\n",
       "      <td>1.808865</td>\n",
       "    </tr>\n",
       "    <tr>\n",
       "      <th>P6F3</th>\n",
       "      <td>0.0</td>\n",
       "      <td>0.0</td>\n",
       "      <td>4.227772</td>\n",
       "      <td>2.998558</td>\n",
       "      <td>2.908221</td>\n",
       "      <td>1.496232</td>\n",
       "      <td>2.574665</td>\n",
       "      <td>0.000000</td>\n",
       "      <td>0.000000</td>\n",
       "      <td>1.496232</td>\n",
       "      <td>...</td>\n",
       "      <td>0.000000</td>\n",
       "      <td>0.000000</td>\n",
       "      <td>0.000000</td>\n",
       "      <td>0.0</td>\n",
       "      <td>3.621156</td>\n",
       "      <td>0.000000</td>\n",
       "      <td>0.000000</td>\n",
       "      <td>3.357548</td>\n",
       "      <td>0.000000</td>\n",
       "      <td>2.574665</td>\n",
       "    </tr>\n",
       "    <tr>\n",
       "      <th>P6F6</th>\n",
       "      <td>0.0</td>\n",
       "      <td>0.0</td>\n",
       "      <td>2.884970</td>\n",
       "      <td>1.477187</td>\n",
       "      <td>3.482848</td>\n",
       "      <td>3.923600</td>\n",
       "      <td>2.049138</td>\n",
       "      <td>0.000000</td>\n",
       "      <td>0.000000</td>\n",
       "      <td>1.179804</td>\n",
       "      <td>...</td>\n",
       "      <td>0.000000</td>\n",
       "      <td>0.000000</td>\n",
       "      <td>0.000000</td>\n",
       "      <td>0.0</td>\n",
       "      <td>3.250030</td>\n",
       "      <td>0.000000</td>\n",
       "      <td>0.754651</td>\n",
       "      <td>2.819958</td>\n",
       "      <td>0.000000</td>\n",
       "      <td>0.754651</td>\n",
       "    </tr>\n",
       "    <tr>\n",
       "      <th>P6F8</th>\n",
       "      <td>0.0</td>\n",
       "      <td>0.0</td>\n",
       "      <td>3.380429</td>\n",
       "      <td>2.298896</td>\n",
       "      <td>2.136449</td>\n",
       "      <td>3.522381</td>\n",
       "      <td>2.768745</td>\n",
       "      <td>2.768745</td>\n",
       "      <td>0.000000</td>\n",
       "      <td>0.000000</td>\n",
       "      <td>...</td>\n",
       "      <td>0.000000</td>\n",
       "      <td>0.000000</td>\n",
       "      <td>0.913833</td>\n",
       "      <td>0.0</td>\n",
       "      <td>3.684882</td>\n",
       "      <td>0.000000</td>\n",
       "      <td>0.000000</td>\n",
       "      <td>3.153075</td>\n",
       "      <td>0.000000</td>\n",
       "      <td>0.000000</td>\n",
       "    </tr>\n",
       "    <tr>\n",
       "      <th>P6F9</th>\n",
       "      <td>0.0</td>\n",
       "      <td>0.0</td>\n",
       "      <td>2.499207</td>\n",
       "      <td>3.150412</td>\n",
       "      <td>2.499207</td>\n",
       "      <td>2.976621</td>\n",
       "      <td>2.499207</td>\n",
       "      <td>0.000000</td>\n",
       "      <td>0.000000</td>\n",
       "      <td>0.000000</td>\n",
       "      <td>...</td>\n",
       "      <td>1.552715</td>\n",
       "      <td>0.000000</td>\n",
       "      <td>0.000000</td>\n",
       "      <td>0.0</td>\n",
       "      <td>4.104105</td>\n",
       "      <td>0.000000</td>\n",
       "      <td>1.552715</td>\n",
       "      <td>0.000000</td>\n",
       "      <td>0.000000</td>\n",
       "      <td>1.552715</td>\n",
       "    </tr>\n",
       "  </tbody>\n",
       "</table>\n",
       "<p>69 rows × 11969 columns</p>\n",
       "</div>"
      ],
      "text/plain": [
       "       Gm6085  Gm6123    Mrpl15    Lypla1     Tcea1   Atp6v1h    Rb1cc1  \\\n",
       "SeqID                                                                     \n",
       "P4C11     0.0     0.0  2.500379  1.334153  3.264652  3.151634  1.334153   \n",
       "P4F10     0.0     0.0  3.153391  2.599200  3.301422  2.844261  1.555170   \n",
       "P5A10     0.0     0.0  2.759644  2.738609  1.598402  3.330715  1.455728   \n",
       "P5A11     0.0     0.0  4.497783  3.307487  1.456181  2.025394  3.031934   \n",
       "P5A2      0.0     0.0  2.410442  2.410442  2.785525  1.992903  2.704106   \n",
       "...       ...     ...       ...       ...       ...       ...       ...   \n",
       "P6E6      0.0     0.0  2.416542  2.621678  2.621678  1.808865  0.000000   \n",
       "P6F3      0.0     0.0  4.227772  2.998558  2.908221  1.496232  2.574665   \n",
       "P6F6      0.0     0.0  2.884970  1.477187  3.482848  3.923600  2.049138   \n",
       "P6F8      0.0     0.0  3.380429  2.298896  2.136449  3.522381  2.768745   \n",
       "P6F9      0.0     0.0  2.499207  3.150412  2.499207  2.976621  2.499207   \n",
       "\n",
       "       4732440D04Rik   Gm37108    Pcmtd1  ...  ERCC-00009  ERCC-00046  \\\n",
       "SeqID                                     ...                           \n",
       "P4C11       0.000000  1.334153  0.000000  ...    0.000000    0.000000   \n",
       "P4F10       0.000000  0.808838  2.687729  ...    0.000000    0.000000   \n",
       "P5A10       0.000000  0.000000  1.289255  ...    0.000000    0.284246   \n",
       "P5A11       0.000000  0.000000  0.000000  ...    0.000000    0.000000   \n",
       "P5A2        0.000000  0.000000  0.000000  ...    0.000000    0.000000   \n",
       "...              ...       ...       ...  ...         ...         ...   \n",
       "P6E6        2.937166  0.000000  2.416542  ...    0.000000    0.000000   \n",
       "P6F3        0.000000  0.000000  1.496232  ...    0.000000    0.000000   \n",
       "P6F6        0.000000  0.000000  1.179804  ...    0.000000    0.000000   \n",
       "P6F8        2.768745  0.000000  0.000000  ...    0.000000    0.000000   \n",
       "P6F9        0.000000  0.000000  0.000000  ...    1.552715    0.000000   \n",
       "\n",
       "       ERCC-00074  ERCC-00076  ERCC-00096  ERCC-00108  ERCC-00113  ERCC-00130  \\\n",
       "SeqID                                                                           \n",
       "P4C11    1.334153         0.0    4.179389    0.000000    1.334153    3.151634   \n",
       "P4F10    0.000000         0.0    4.021649    0.000000    1.788619    3.579854   \n",
       "P5A10    0.839427         0.0    3.541931    0.000000    2.839619    3.911728   \n",
       "P5A11    0.000000         0.0    1.456181    0.000000    0.000000    1.456181   \n",
       "P5A2     0.000000         0.0    2.410442    0.000000    0.000000    2.704106   \n",
       "...           ...         ...         ...         ...         ...         ...   \n",
       "P6E6     0.000000         0.0    3.064048    1.267443    2.158169    3.277808   \n",
       "P6F3     0.000000         0.0    3.621156    0.000000    0.000000    3.357548   \n",
       "P6F6     0.000000         0.0    3.250030    0.000000    0.754651    2.819958   \n",
       "P6F8     0.913833         0.0    3.684882    0.000000    0.000000    3.153075   \n",
       "P6F9     0.000000         0.0    4.104105    0.000000    1.552715    0.000000   \n",
       "\n",
       "       ERCC-00136  ERCC-00171  \n",
       "SeqID                          \n",
       "P4C11    0.000000    2.500379  \n",
       "P4F10    2.394469    2.599200  \n",
       "P5A10    0.000000    1.529607  \n",
       "P5A11    0.000000    0.000000  \n",
       "P5A2     0.818616    0.818616  \n",
       "...           ...         ...  \n",
       "P6E6     0.000000    1.808865  \n",
       "P6F3     0.000000    2.574665  \n",
       "P6F6     0.000000    0.754651  \n",
       "P6F8     0.000000    0.000000  \n",
       "P6F9     0.000000    1.552715  \n",
       "\n",
       "[69 rows x 11969 columns]"
      ]
     },
     "execution_count": 15,
     "metadata": {},
     "output_type": "execute_result"
    }
   ],
   "source": [
    "df"
   ]
  },
  {
   "cell_type": "code",
   "execution_count": null,
   "id": "5f29a965-762a-4a66-8b01-7841945d3090",
   "metadata": {
    "tags": []
   },
   "outputs": [],
   "source": []
  },
  {
   "cell_type": "code",
   "execution_count": null,
   "id": "13ed7e57-3537-4995-b940-21978911a7d3",
   "metadata": {},
   "outputs": [],
   "source": []
  }
 ],
 "metadata": {
  "kernelspec": {
   "display_name": "Python 3 (ipykernel)",
   "language": "python",
   "name": "python3"
  },
  "language_info": {
   "codemirror_mode": {
    "name": "ipython",
    "version": 3
   },
   "file_extension": ".py",
   "mimetype": "text/x-python",
   "name": "python",
   "nbconvert_exporter": "python",
   "pygments_lexer": "ipython3",
   "version": "3.10.0"
  }
 },
 "nbformat": 4,
 "nbformat_minor": 5
}
